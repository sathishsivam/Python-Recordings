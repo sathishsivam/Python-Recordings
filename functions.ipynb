{
  "nbformat": 4,
  "nbformat_minor": 0,
  "metadata": {
    "colab": {
      "provenance": []
    },
    "kernelspec": {
      "name": "python3",
      "display_name": "Python 3"
    },
    "language_info": {
      "name": "python"
    }
  },
  "cells": [
    {
      "cell_type": "code",
      "execution_count": null,
      "metadata": {
        "id": "adjxV7AYQxLS"
      },
      "outputs": [],
      "source": []
    },
    {
      "cell_type": "markdown",
      "source": [
        "Python functions is a block of code that returns the specific task\n",
        "the main idea is to put some commonly or repeadtly task together and make a function , instead of writing codes again and again"
      ],
      "metadata": {
        "id": "VnatcClnRRPT"
      }
    },
    {
      "cell_type": "markdown",
      "source": [
        "def function_name(parameter(s)):\n",
        "  statements\n",
        "  statements\n",
        "  statements\n",
        "  "
      ],
      "metadata": {
        "id": "6ktO6bijR5rb"
      }
    },
    {
      "cell_type": "code",
      "source": [
        "n=int(input(\"Enter the number\"))"
      ],
      "metadata": {
        "colab": {
          "base_uri": "https://localhost:8080/"
        },
        "id": "S_CgB-25SOTW",
        "outputId": "4ad597f9-f46d-4aee-a4e2-2fe4a85bc4f8"
      },
      "execution_count": null,
      "outputs": [
        {
          "name": "stdout",
          "output_type": "stream",
          "text": [
            "Enter the number243\n"
          ]
        }
      ]
    },
    {
      "cell_type": "code",
      "source": [
        "if(n%2==0):\n",
        "  print(\"Even number\")\n",
        "else:\n",
        "  print(\"Odd number\")"
      ],
      "metadata": {
        "colab": {
          "base_uri": "https://localhost:8080/"
        },
        "id": "AkY_AhQdRyMM",
        "outputId": "53f78460-bca6-48a5-c3ac-c5ff7e518532"
      },
      "execution_count": null,
      "outputs": [
        {
          "output_type": "stream",
          "name": "stdout",
          "text": [
            "Odd number\n"
          ]
        }
      ]
    },
    {
      "cell_type": "code",
      "source": [
        "def checkoddeven():\n",
        "  n=int(input(\"Enter the number\"))\n",
        "\n",
        "  if(n%2==0):\n",
        "    print(\"Even number\")\n",
        "  else:\n",
        "    print(\"Odd number\")"
      ],
      "metadata": {
        "id": "P6Fc5qd8SFlC"
      },
      "execution_count": null,
      "outputs": []
    },
    {
      "cell_type": "code",
      "source": [
        "checkoddeven()"
      ],
      "metadata": {
        "colab": {
          "base_uri": "https://localhost:8080/"
        },
        "id": "s_LAtjNlUKNr",
        "outputId": "5d8e4dad-9353-4f69-f2cb-89790ed0e514"
      },
      "execution_count": null,
      "outputs": [
        {
          "output_type": "stream",
          "name": "stdout",
          "text": [
            "Enter the number112\n",
            "Even number\n"
          ]
        }
      ]
    },
    {
      "cell_type": "code",
      "source": [
        "# parameters & arguments\n",
        "\n",
        "# parameters are the variables or objects which will be used during the function definitions formal arguments\n",
        "\n",
        "\n",
        "def displaystudent(name,age,city):\n",
        "  \"\"\" where name, age, city are called as parameters\"\"\"\n",
        "  print(\"Name=\",name)\n",
        "  print(\"Age=\",age)\n",
        "  print(\"City=\",city)"
      ],
      "metadata": {
        "id": "Yp7S8t9JUL6x"
      },
      "execution_count": null,
      "outputs": []
    },
    {
      "cell_type": "code",
      "source": [
        "displaystudent(\"Sathishsivam\",44,\"Salem\") # arguments actual arguments"
      ],
      "metadata": {
        "colab": {
          "base_uri": "https://localhost:8080/"
        },
        "id": "IIFr36ONXgHz",
        "outputId": "d7f7687f-cad7-4afb-84f3-b89ed734d65f"
      },
      "execution_count": null,
      "outputs": [
        {
          "output_type": "stream",
          "name": "stdout",
          "text": [
            "Name= Sathishsivam\n",
            "Age= 44\n",
            "City= Salem\n"
          ]
        }
      ]
    },
    {
      "cell_type": "code",
      "source": [
        "def checkeven(x):\n",
        "  if(x%2==0):\n",
        "    print(\"Even number\")\n",
        "  else:\n",
        "    print(\"Odd number\")"
      ],
      "metadata": {
        "id": "ESzY40MpXm0B"
      },
      "execution_count": null,
      "outputs": []
    },
    {
      "cell_type": "code",
      "source": [
        "checkeven(17)"
      ],
      "metadata": {
        "colab": {
          "base_uri": "https://localhost:8080/"
        },
        "id": "vL5uo83pYf9k",
        "outputId": "2222aa58-d9fd-4f2d-ef30-96a4287cdb0b"
      },
      "execution_count": null,
      "outputs": [
        {
          "output_type": "stream",
          "name": "stdout",
          "text": [
            "Odd number\n"
          ]
        }
      ]
    },
    {
      "cell_type": "code",
      "source": [
        "def displaystudent(name,age,city):\n",
        "  \"\"\" this function is used to display the name age city of the student\"\"\"\n",
        "  print(\"Name=\",name)\n",
        "  print(\"Age=\",age)\n",
        "  print(\"City=\",city)\n"
      ],
      "metadata": {
        "id": "MPhE-BrvYnPY"
      },
      "execution_count": null,
      "outputs": []
    },
    {
      "cell_type": "code",
      "source": [
        "displaystudent(\"Sathishsivam\",34,\"Salem\")"
      ],
      "metadata": {
        "colab": {
          "base_uri": "https://localhost:8080/"
        },
        "id": "WKbURLk8Y8SF",
        "outputId": "533c25e5-1e83-47e9-d04a-991f6d5c3e37"
      },
      "execution_count": null,
      "outputs": [
        {
          "output_type": "stream",
          "name": "stdout",
          "text": [
            "Name= Sathishsivam\n",
            "Age= 34\n",
            "City= Salem\n"
          ]
        }
      ]
    },
    {
      "cell_type": "code",
      "source": [
        "help(displaystudent)"
      ],
      "metadata": {
        "colab": {
          "base_uri": "https://localhost:8080/"
        },
        "id": "BTEGUeb4ZEnb",
        "outputId": "03aaefcc-b264-42c2-fda0-2580b4a4b854"
      },
      "execution_count": null,
      "outputs": [
        {
          "output_type": "stream",
          "name": "stdout",
          "text": [
            "Help on function displaystudent in module __main__:\n",
            "\n",
            "displaystudent(name, age, city)\n",
            "    this function is used to display the name age city of the student\n",
            "\n"
          ]
        }
      ]
    },
    {
      "cell_type": "code",
      "source": [
        "displaystudent.__doc__"
      ],
      "metadata": {
        "colab": {
          "base_uri": "https://localhost:8080/",
          "height": 35
        },
        "id": "TRiXdWhDZG7t",
        "outputId": "14c501cd-0c22-4e01-eeea-68fdc5529807"
      },
      "execution_count": null,
      "outputs": [
        {
          "output_type": "execute_result",
          "data": {
            "text/plain": [
              "' this function is used to display the name age city of the student'"
            ],
            "application/vnd.google.colaboratory.intrinsic+json": {
              "type": "string"
            }
          },
          "metadata": {},
          "execution_count": 21
        }
      ]
    },
    {
      "cell_type": "code",
      "source": [
        "def arithmetic(x,y,z):\n",
        "  sum=x+y+z\n",
        "  print(\"Addition=\",sum)"
      ],
      "metadata": {
        "id": "thDy94_PZKok"
      },
      "execution_count": null,
      "outputs": []
    },
    {
      "cell_type": "code",
      "source": [
        "arithmetic(1,2,10)"
      ],
      "metadata": {
        "colab": {
          "base_uri": "https://localhost:8080/"
        },
        "id": "prFQH2Q0ZiDx",
        "outputId": "cd964fb4-34c0-464c-86b2-bf55e5ae0b92"
      },
      "execution_count": null,
      "outputs": [
        {
          "output_type": "stream",
          "name": "stdout",
          "text": [
            "Addition= 13\n"
          ]
        }
      ]
    },
    {
      "cell_type": "code",
      "source": [],
      "metadata": {
        "id": "0vIUXJn8Zk7w"
      },
      "execution_count": null,
      "outputs": []
    }
  ]
}