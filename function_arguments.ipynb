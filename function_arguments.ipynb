{
  "nbformat": 4,
  "nbformat_minor": 0,
  "metadata": {
    "colab": {
      "provenance": []
    },
    "kernelspec": {
      "name": "python3",
      "display_name": "Python 3"
    },
    "language_info": {
      "name": "python"
    }
  },
  "cells": [
    {
      "cell_type": "code",
      "execution_count": 1,
      "metadata": {
        "id": "7VH8najldM0W"
      },
      "outputs": [],
      "source": [
        "def displaystudent(name,roll,city):\n",
        "  print(\"Name=\",name)\n",
        "  print(\"Roll\",roll)\n",
        "  print(\"City\",city)"
      ]
    },
    {
      "cell_type": "code",
      "source": [
        "displaystudent(\"Sivam\",1,\"Salem\")"
      ],
      "metadata": {
        "colab": {
          "base_uri": "https://localhost:8080/"
        },
        "id": "havuSMd5dpAg",
        "outputId": "2ba3d8a2-d15f-4ad7-f958-df64687982aa"
      },
      "execution_count": 3,
      "outputs": [
        {
          "output_type": "stream",
          "name": "stdout",
          "text": [
            "Name= Sivam\n",
            "Roll 1\n",
            "City Salem\n"
          ]
        }
      ]
    },
    {
      "cell_type": "code",
      "source": [
        "displaystudent(\"Sivam\",2,\"Covai\")"
      ],
      "metadata": {
        "colab": {
          "base_uri": "https://localhost:8080/"
        },
        "id": "30T6Ct0CfJVX",
        "outputId": "99d6641c-bd9e-4c2c-d8db-dfb4c95dc19d"
      },
      "execution_count": 5,
      "outputs": [
        {
          "output_type": "stream",
          "name": "stdout",
          "text": [
            "Name= Sivam\n",
            "Roll 2\n",
            "City Covai\n"
          ]
        }
      ]
    },
    {
      "cell_type": "code",
      "source": [
        "# Positional arguments"
      ],
      "metadata": {
        "id": "C4Rj2h6RfNdA"
      },
      "execution_count": 6,
      "outputs": []
    },
    {
      "cell_type": "code",
      "source": [
        "# keyword arguments"
      ],
      "metadata": {
        "id": "YRBj-MPZfWRq"
      },
      "execution_count": 7,
      "outputs": []
    },
    {
      "cell_type": "code",
      "source": [
        "def displaystudent(name,age,city):\n",
        "  print(\"Name=\",name)\n",
        "  print(\"Age=\",age)\n",
        "  print(\"City=\",city)\n",
        ""
      ],
      "metadata": {
        "id": "CLau6NdKfftN"
      },
      "execution_count": 13,
      "outputs": []
    },
    {
      "cell_type": "code",
      "source": [
        "displaystudent(12,\"Sivam\",\"Nellai\")"
      ],
      "metadata": {
        "colab": {
          "base_uri": "https://localhost:8080/"
        },
        "id": "VrPCn5xKiJlo",
        "outputId": "514f9237-f44f-4272-de63-a1075911adca"
      },
      "execution_count": 14,
      "outputs": [
        {
          "output_type": "stream",
          "name": "stdout",
          "text": [
            "Name= 12\n",
            "Age= Sivam\n",
            "City= Nellai\n"
          ]
        }
      ]
    },
    {
      "cell_type": "code",
      "source": [
        "displaystudent(age=12,name=\"Sivam\",city=\"Nellai\")"
      ],
      "metadata": {
        "colab": {
          "base_uri": "https://localhost:8080/"
        },
        "id": "M9QpLjr4ilxm",
        "outputId": "d35746a0-0adc-47b3-a348-67a553451ac4"
      },
      "execution_count": 15,
      "outputs": [
        {
          "output_type": "stream",
          "name": "stdout",
          "text": [
            "Name= Sivam\n",
            "Age= 12\n",
            "City= Nellai\n"
          ]
        }
      ]
    },
    {
      "cell_type": "code",
      "source": [],
      "metadata": {
        "id": "xhRfN1BYiopw"
      },
      "execution_count": null,
      "outputs": []
    }
  ]
}